{
 "cells": [
  {
   "cell_type": "code",
   "execution_count": 12,
   "id": "d71feae5",
   "metadata": {},
   "outputs": [],
   "source": [
    "\n",
    "# now we have to group the data\n"
   ]
  },
  {
   "cell_type": "code",
   "execution_count": 1,
   "id": "0c79fa89",
   "metadata": {},
   "outputs": [],
   "source": [
    "#import liberaries\n",
    "\n",
    "import os\n",
    "import tabula\n",
    "import pandas as pd\n",
    "import shutil"
   ]
  },
  {
   "cell_type": "code",
   "execution_count": 20,
   "id": "31a32309",
   "metadata": {
    "scrolled": true
   },
   "outputs": [],
   "source": [
    "# grouping the pdf files\n",
    "\n",
    "\n",
    "\n",
    "# set the directory path\n",
    "folder_path = \"tables_files\"\n",
    "\n",
    "# list all files in the directory\n",
    "files = os.listdir(folder_path)\n",
    "\n",
    "# filter out non-pdf files\n",
    "pdf_files = [f for f in files if f.endswith('.pdf')]\n",
    "\n",
    "# group the pdf files into folders based on the characters after '_'\n",
    "for file in pdf_files:\n",
    "    folder_name = file.split('_')[1].split('.pdf')[0]\n",
    "    folder_path = os.path.join('tables_files', folder_name)\n",
    "    if not os.path.exists(folder_path):\n",
    "        os.makedirs(folder_path)\n",
    "    src_path = os.path.join('tables_files', file)\n",
    "    dst_path = os.path.join(folder_path, file)\n",
    "    shutil.move(src_path, dst_path)\n",
    "\n"
   ]
  },
  {
   "cell_type": "code",
   "execution_count": 3,
   "id": "c4d94222",
   "metadata": {},
   "outputs": [
    {
     "name": "stdout",
     "output_type": "stream",
     "text": [
      "['Table01', 'Table02', 'Table03', 'Table04', 'Table05', 'Table06', 'Table07', 'Table08', 'Table09', 'Table10', 'Table11', 'Table12', 'Table13', 'Table14', 'Table15', 'Table16', 'Table17', 'Table18', 'Table19', 'Table20', 'Table21', 'Table22', 'Table23', 'Table24', 'Table25', 'Table26', 'Table27', 'Table28', 'Table29', 'Table30', 'Table31', 'Table32', 'Table33', 'Table34', 'Table35', 'Table36', 'Table37', 'Table38', 'Table39', 'Table40']\n"
     ]
    }
   ],
   "source": [
    "# to see folders\n",
    "\n",
    "# set the directory path\n",
    "folder_path = \"tables_files\"\n",
    "\n",
    "# list all directories in the directory\n",
    "directories = [d for d in os.listdir(folder_path) if os.path.isdir(os.path.join(folder_path, d))]\n",
    "\n",
    "# print the names of the directories\n",
    "print(directories)\n"
   ]
  },
  {
   "cell_type": "code",
   "execution_count": 4,
   "id": "67831076",
   "metadata": {},
   "outputs": [
    {
     "data": {
      "text/plain": [
       "['Table01',\n",
       " 'Table02',\n",
       " 'Table03',\n",
       " 'Table04',\n",
       " 'Table05',\n",
       " 'Table06',\n",
       " 'Table07',\n",
       " 'Table08',\n",
       " 'Table09',\n",
       " 'Table10',\n",
       " 'Table11',\n",
       " 'Table12',\n",
       " 'Table13',\n",
       " 'Table14',\n",
       " 'Table15',\n",
       " 'Table16',\n",
       " 'Table17',\n",
       " 'Table18',\n",
       " 'Table19',\n",
       " 'Table20',\n",
       " 'Table21',\n",
       " 'Table22',\n",
       " 'Table23',\n",
       " 'Table24',\n",
       " 'Table25',\n",
       " 'Table26',\n",
       " 'Table27',\n",
       " 'Table28',\n",
       " 'Table29',\n",
       " 'Table30',\n",
       " 'Table31',\n",
       " 'Table32',\n",
       " 'Table33',\n",
       " 'Table34',\n",
       " 'Table35',\n",
       " 'Table36',\n",
       " 'Table37',\n",
       " 'Table38',\n",
       " 'Table39',\n",
       " 'Table40']"
      ]
     },
     "execution_count": 4,
     "metadata": {},
     "output_type": "execute_result"
    }
   ],
   "source": [
    "directories"
   ]
  },
  {
   "cell_type": "code",
   "execution_count": 6,
   "id": "15f59fcd",
   "metadata": {},
   "outputs": [
    {
     "data": {
      "text/plain": [
       "40"
      ]
     },
     "execution_count": 6,
     "metadata": {},
     "output_type": "execute_result"
    }
   ],
   "source": [
    "len(directories)\n"
   ]
  },
  {
   "cell_type": "code",
   "execution_count": 14,
   "id": "ab3af5fe",
   "metadata": {},
   "outputs": [
    {
     "name": "stdout",
     "output_type": "stream",
     "text": [
      "['balochistan_Table01.pdf', 'fata_Table01.pdf', 'islamabad_Table01.pdf', 'kpk_Table01.pdf', 'pakistan_Table01.pdf', 'punjab_Table01.pdf', 'sindh_Table01.pdf']\n"
     ]
    }
   ],
   "source": [
    "# now check if they are grouped according to the number of table\n",
    "\n",
    "# define the path to the root directory\n",
    "root_dir = 'tables_files'\n",
    "\n",
    "# get the list of subdirectories\n",
    "subdirs = os.listdir(root_dir)\n",
    "\n",
    "# define the path to the first subdirectory\n",
    "subdir_path = os.path.join(root_dir, subdirs[0])\n",
    "\n",
    "# get the list of PDF files in the first subdirectory\n",
    "pdf_files = [f for f in os.listdir(subdir_path) if f.endswith('.pdf')]\n",
    "\n",
    "# print the list of PDF files\n",
    "print(pdf_files)\n",
    "\n",
    "\n",
    "\n"
   ]
  },
  {
   "cell_type": "markdown",
   "id": "4523e6d0",
   "metadata": {},
   "source": [
    "# now we need to convert pdf files to excel files by using Ms Excel"
   ]
  }
 ],
 "metadata": {
  "kernelspec": {
   "display_name": "Python 3 (ipykernel)",
   "language": "python",
   "name": "python3"
  },
  "language_info": {
   "codemirror_mode": {
    "name": "ipython",
    "version": 3
   },
   "file_extension": ".py",
   "mimetype": "text/x-python",
   "name": "python",
   "nbconvert_exporter": "python",
   "pygments_lexer": "ipython3",
   "version": "3.11.3"
  }
 },
 "nbformat": 4,
 "nbformat_minor": 5
}
